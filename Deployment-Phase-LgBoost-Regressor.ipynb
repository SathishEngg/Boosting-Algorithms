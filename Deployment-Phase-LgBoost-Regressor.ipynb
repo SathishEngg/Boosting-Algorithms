{
 "cells": [
  {
   "cell_type": "code",
   "execution_count": 1,
   "id": "bad111b6-43ba-4aa4-85cb-704dc8a7420c",
   "metadata": {},
   "outputs": [],
   "source": [
    "import pickle"
   ]
  },
  {
   "cell_type": "code",
   "execution_count": 5,
   "id": "870cbba1-4e20-4c19-98ff-522fcea7671a",
   "metadata": {},
   "outputs": [],
   "source": [
    "loaded_model=pickle.load(open(\"finalized_model_LgboostRegressor.sav\", 'rb'))\n",
    "result=loaded_model.predict([[0,0,0,0,0]])"
   ]
  },
  {
   "cell_type": "code",
   "execution_count": 6,
   "id": "413fde69-e85a-4c27-83ea-4e11ad68a372",
   "metadata": {},
   "outputs": [
    {
     "data": {
      "text/plain": [
       "array([1843.44792585])"
      ]
     },
     "execution_count": 6,
     "metadata": {},
     "output_type": "execute_result"
    }
   ],
   "source": [
    "result"
   ]
  }
 ],
 "metadata": {
  "kernelspec": {
   "display_name": "Python 3 (ipykernel)",
   "language": "python",
   "name": "python3"
  },
  "language_info": {
   "codemirror_mode": {
    "name": "ipython",
    "version": 3
   },
   "file_extension": ".py",
   "mimetype": "text/x-python",
   "name": "python",
   "nbconvert_exporter": "python",
   "pygments_lexer": "ipython3",
   "version": "3.11.7"
  }
 },
 "nbformat": 4,
 "nbformat_minor": 5
}
